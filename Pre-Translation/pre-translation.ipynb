{
 "cells": [
  {
   "cell_type": "code",
   "execution_count": null,
   "metadata": {},
   "outputs": [],
   "source": [
    "# Use deepL api to pretranslate all the claims into english. save the translated claims in a seprate folder and summaries in json files. then prompt using direct inference."
   ]
  },
  {
   "cell_type": "code",
   "execution_count": 17,
   "metadata": {},
   "outputs": [
    {
     "ename": "ImportError",
     "evalue": "cannot import name 'translate_v2' from 'google.cloud' (unknown location)",
     "output_type": "error",
     "traceback": [
      "\u001b[0;31m---------------------------------------------------------------------------\u001b[0m",
      "\u001b[0;31mImportError\u001b[0m                               Traceback (most recent call last)",
      "Cell \u001b[0;32mIn[17], line 3\u001b[0m\n\u001b[1;32m      1\u001b[0m \u001b[38;5;28;01mimport\u001b[39;00m \u001b[38;5;21;01mos\u001b[39;00m\n\u001b[1;32m      2\u001b[0m \u001b[38;5;28;01mimport\u001b[39;00m \u001b[38;5;21;01mjson\u001b[39;00m\n\u001b[0;32m----> 3\u001b[0m \u001b[38;5;28;01mfrom\u001b[39;00m \u001b[38;5;21;01mgoogle\u001b[39;00m\u001b[38;5;21;01m.\u001b[39;00m\u001b[38;5;21;01mcloud\u001b[39;00m \u001b[38;5;28;01mimport\u001b[39;00m translate_v2 \u001b[38;5;28;01mas\u001b[39;00m translate\n\u001b[1;32m      4\u001b[0m \u001b[38;5;28;01mfrom\u001b[39;00m \u001b[38;5;21;01mdotenv\u001b[39;00m \u001b[38;5;28;01mimport\u001b[39;00m load_dotenv\n\u001b[1;32m      6\u001b[0m \u001b[38;5;66;03m# Load environment variables from .env file\u001b[39;00m\n",
      "\u001b[0;31mImportError\u001b[0m: cannot import name 'translate_v2' from 'google.cloud' (unknown location)"
     ]
    }
   ],
   "source": [
    "import os\n",
    "import json\n",
    "from google.cloud import translate_v2 as translate\n",
    "from dotenv import load_dotenv\n",
    "\n",
    "# Load environment variables from .env file\n",
    "load_dotenv()\n",
    "\n",
    "# Path to the Google Cloud service account key JSON file\n",
    "GOOGLE_APPLICATION_CREDENTIALS = os.getenv('GOOGLE_APPLICATION_CREDENTIALS')\n",
    "\n",
    "def read_json_file(file_path):\n",
    "    print(f\"\\nReading JSON file: {file_path}\\n\")\n",
    "    with open(file_path, 'r', encoding='utf-8') as file:\n",
    "        data = json.load(file)\n",
    "    print(f\"Data read from {file_path}: {data}\\n\")\n",
    "    return data\n",
    "\n",
    "def translate_text(text, source_lang, target_lang='en'):\n",
    "    print(f\"\\nTranslating text: {text} from {source_lang} to {target_lang}\\n\")\n",
    "    \n",
    "    # Initialize the Google Translate client\n",
    "    translate_client = translate.Client.from_service_account_json(GOOGLE_APPLICATION_CREDENTIALS)\n",
    "    \n",
    "    result = translate_client.translate(text, source_language=source_lang, target_language=target_lang)\n",
    "    \n",
    "    print(f\"Translated text: {result['translatedText']}\\n\")\n",
    "    return result['translatedText']\n",
    "\n",
    "def process_and_translate_file(file_path, target_lang='en'):\n",
    "    print(f\"\\nProcessing and translating file: {file_path}\\n\")\n",
    "    data = read_json_file(file_path)\n",
    "    translated_data = []\n",
    "    for entry in data:\n",
    "        if 'claim' in entry and 'language' in entry:\n",
    "            source_lang = entry['language']\n",
    "            print(f\"Translating claim: {entry['claim']} from {source_lang}\\n\")\n",
    "            entry['claim'] = translate_text(entry['claim'], source_lang, target_lang)\n",
    "            print(f\"Translated claim: {entry['claim']}\\n\")\n",
    "        translated_data.append(entry)\n",
    "    save_json_file(translated_data, file_path.replace(\".json\", \"_translated.json\"))\n",
    "    print(f\"Intermediate translated file saved\\n\")\n",
    "    return translated_data\n",
    "\n",
    "def save_json_file(data, file_path):\n",
    "    print(f\"\\nSaving JSON file: {file_path}\\n\")\n",
    "    with open(file_path, 'w', encoding='utf-8') as file:\n",
    "        json.dump(data, file, ensure_ascii=False, indent=4)\n",
    "    print(f\"File saved: {file_path}\\n\")\n",
    "\n",
    "def main():\n",
    "    json_files = [\"indo_aryan.json\", \"kartvelian.json\", \"romance.json\", \"slavic.json\", \"turkic.json\"]\n",
    "    for file_name in json_files:\n",
    "        file_path = os.path.join(file_name)\n",
    "        print(f\"\\nProcessing file: {file_path}\\n\")\n",
    "        translated_data = process_and_translate_file(file_path)\n",
    "        output_path = os.path.join(f\"translated_{file_name}\")\n",
    "        save_json_file(translated_data, output_path)\n",
    "        print(f\"Translated file saved to: {output_path}\\n\")\n",
    "\n",
    "if __name__ == \"__main__\":\n",
    "    main()\n"
   ]
  },
  {
   "cell_type": "code",
   "execution_count": null,
   "metadata": {},
   "outputs": [],
   "source": []
  }
 ],
 "metadata": {
  "kernelspec": {
   "display_name": "base",
   "language": "python",
   "name": "python3"
  },
  "language_info": {
   "codemirror_mode": {
    "name": "ipython",
    "version": 3
   },
   "file_extension": ".py",
   "mimetype": "text/x-python",
   "name": "python",
   "nbconvert_exporter": "python",
   "pygments_lexer": "ipython3",
   "version": "3.10.13"
  }
 },
 "nbformat": 4,
 "nbformat_minor": 2
}
